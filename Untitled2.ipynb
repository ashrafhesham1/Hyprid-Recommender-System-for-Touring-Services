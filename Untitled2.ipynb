{
 "cells": [
  {
   "cell_type": "code",
   "execution_count": null,
   "id": "5bf6b30b",
   "metadata": {},
   "outputs": [],
   "source": [
    "import gc\n",
    "import sys\n",
    "import os\n",
    "\n",
    "sys.path.append('./data')\n",
    "sys.path.append('./model')\n",
    "sys.path.append('./evaluation')"
   ]
  },
  {
   "cell_type": "code",
   "execution_count": null,
   "id": "02121bec",
   "metadata": {},
   "outputs": [],
   "source": [
    "from Data import Data\n",
    "from Model import Model\n",
    "\n",
    "import numpy as np\n",
    "import pandas as pd\n",
    "import surprise"
   ]
  },
  {
   "cell_type": "code",
   "execution_count": null,
   "id": "4bfd44a0",
   "metadata": {},
   "outputs": [],
   "source": [
    "data = Data()\n",
    "data.load()\n",
    "\n",
    "trainset = data.get_ratings()\n",
    "items = data.get_items()\n",
    "ratings_df = data.get_ratings_df()"
   ]
  },
  {
   "cell_type": "code",
   "execution_count": null,
   "id": "4f15452b",
   "metadata": {},
   "outputs": [],
   "source": [
    "ratings_df"
   ]
  },
  {
   "cell_type": "code",
   "execution_count": null,
   "id": "daa2ea07",
   "metadata": {},
   "outputs": [],
   "source": [
    "unique_users = ratings_df['user'].unique()\n",
    "unique_items = ratings_df['item'].unique()\n",
    "len(unique_users)"
   ]
  },
  {
   "cell_type": "code",
   "execution_count": null,
   "id": "56699feb",
   "metadata": {},
   "outputs": [],
   "source": [
    "np.random.shuffle(unique_users)\n",
    "seen_users, unseen_users = unique_users[:4400], unique_users[4000:]"
   ]
  },
  {
   "cell_type": "code",
   "execution_count": null,
   "id": "b2e551c1",
   "metadata": {},
   "outputs": [],
   "source": [
    "seen_users_ratings = ratings_df[ratings_df['user'].isin(seen_users)]\n",
    "unseen_users_ratings = ratings_df[ratings_df['user'].isin(unseen_users)]"
   ]
  },
  {
   "cell_type": "code",
   "execution_count": null,
   "id": "5993eef1",
   "metadata": {},
   "outputs": [],
   "source": [
    "reader = surprise.Reader(line_format = 'user item rating timestamp', sep = ',', skip_lines = 1)\n",
    "trainset = surprise.Dataset.load_from_df(seen_users_ratings, reader).build_full_trainset()"
   ]
  },
  {
   "cell_type": "code",
   "execution_count": null,
   "id": "fb6e7e65",
   "metadata": {},
   "outputs": [],
   "source": [
    "model = Model()\n",
    "model.fit()"
   ]
  },
  {
   "cell_type": "code",
   "execution_count": null,
   "id": "624209e4",
   "metadata": {},
   "outputs": [],
   "source": [
    "unseen_users_ratings_dict = {}\n",
    "for row in unseen_users_ratings.iterrows():\n",
    "    user, item, rating = row[1]['user'],row[1]['item'],row[1]['rating']\n",
    "    if user == np.nan or item == np.nan or rating == np.nan:\n",
    "        continue\n",
    "    if user not in unseen_users_ratings_dict.keys():\n",
    "        unseen_users_ratings_dict[user] = {}\n",
    "    unseen_users_ratings_dict[user][item] = rating"
   ]
  },
  {
   "cell_type": "code",
   "execution_count": null,
   "id": "bd524569",
   "metadata": {},
   "outputs": [],
   "source": [
    "real_ratings = []\n",
    "predicted_ratings = []\n",
    "num_hits, num_rates = 0, 0\n",
    "for user, ratings in unseen_users_ratings_dict.items():\n",
    "    if len(ratings.keys()) < 2:\n",
    "        continue\n",
    "        \n",
    "    new_item, new_item_rating = ratings.popitem()\n",
    "    new_item_prediction = model.predict(ratings, new_item)\n",
    "    \n",
    "    user_top_N = model.get_top_N(ratings, list(unique_items))\n",
    "    user_top_N = [item[0] for item in user_top_N]\n",
    "    \n",
    "    if new_item in user_top_N:\n",
    "        num_hits += 1\n",
    "    num_rates += 1\n",
    "    \n",
    "    if num_rates % 50 == 0 :\n",
    "        print(f'{num_rates} evaluated  of  {len(unseen_users_ratings_dict.items())}')\n",
    "        \n",
    "    real_ratings.append(new_item_rating)\n",
    "    predicted_ratings.append(new_item_prediction)"
   ]
  },
  {
   "cell_type": "code",
   "execution_count": null,
   "id": "9cf484be",
   "metadata": {},
   "outputs": [],
   "source": [
    "error = 0\n",
    "for i in range(len(real_ratings)) : error += (real_ratings[i] - predicted_ratings[i]) ** 2\n",
    "error /= len(real_ratings)"
   ]
  },
  {
   "cell_type": "code",
   "execution_count": null,
   "id": "1027d625",
   "metadata": {},
   "outputs": [],
   "source": [
    "error"
   ]
  },
  {
   "cell_type": "code",
   "execution_count": null,
   "id": "92f9e936",
   "metadata": {},
   "outputs": [],
   "source": [
    "hit_rate = num_hits / num_rates\n",
    "hit_rate"
   ]
  },
  {
   "cell_type": "code",
   "execution_count": null,
   "id": "ce0c4171",
   "metadata": {},
   "outputs": [],
   "source": [
    "# import concurrent.futures\n",
    "# import threading\n",
    "\n",
    "# real_ratings = []\n",
    "# predicted_ratings = []\n",
    "# num_hits, num_rates = 0, 0\n",
    "# lock = threading.Lock()\n",
    "\n",
    "# def process_user(user, ratings):\n",
    "#     global num_hits, num_rates\n",
    "#     if len(ratings.keys()) < 2:\n",
    "#         return\n",
    "    \n",
    "#     new_item, new_item_rating = ratings.popitem()\n",
    "#     new_item_prediction = model.predict(ratings, new_item)\n",
    "    \n",
    "#     user_top_N = model.get_top_N(ratings, list(unique_items))\n",
    "#     user_top_N = [item[0] for item in user_top_N]\n",
    "    \n",
    "#     if new_item in user_top_N:\n",
    "#         with lock:\n",
    "#             num_hits += 1\n",
    "#     with lock:\n",
    "#         num_rates += 1\n",
    "#         if num_rates % 100 == 0 : print(num_rates)\n",
    "    \n",
    "#     with lock:\n",
    "#         real_ratings.append(new_item_rating)\n",
    "#         predicted_ratings.append(new_item_prediction)\n",
    "\n",
    "# # Create a ThreadPoolExecutor with a maximum of 4 concurrent threads\n",
    "# with concurrent.futures.ThreadPoolExecutor(max_workers=4) as executor:\n",
    "#     # Iterate over each user and ratings in unseen_users_ratings_dict\n",
    "#     # Submit each user's processing as a separate thread\n",
    "#     future_to_user = {executor.submit(process_user, user, ratings): user for user, ratings in unseen_users_ratings_dict.items()}\n",
    "\n",
    "#     # Wait for all threads to complete\n",
    "#     for future in concurrent.futures.as_completed(future_to_user):\n",
    "#         user = future_to_user[future]\n",
    "#         try:\n",
    "#             # Retrieve the result of the thread\n",
    "#             future.result\n",
    "#         except Exception as e:\n",
    "#             # Handle any exceptions that occurred in the thread\n",
    "#             print(f\"Exception occurred for user {user}: {str(e)}\")\n",
    "\n",
    "# # Print the resulting lists\n",
    "# print(\"Real Ratings:\", real_ratings)\n",
    "# print(\"Predicted Ratings:\", predicted_ratings)\n",
    "# print(\"Number of Hits:\", num_hits)\n",
    "# print(\"Number of Rates:\", num_rates)\n"
   ]
  },
  {
   "cell_type": "code",
   "execution_count": null,
   "id": "9afd22a8",
   "metadata": {},
   "outputs": [],
   "source": []
  }
 ],
 "metadata": {
  "kernelspec": {
   "display_name": "Python 3 (ipykernel)",
   "language": "python",
   "name": "python3"
  },
  "language_info": {
   "codemirror_mode": {
    "name": "ipython",
    "version": 3
   },
   "file_extension": ".py",
   "mimetype": "text/x-python",
   "name": "python",
   "nbconvert_exporter": "python",
   "pygments_lexer": "ipython3",
   "version": "3.8.3"
  }
 },
 "nbformat": 4,
 "nbformat_minor": 5
}
