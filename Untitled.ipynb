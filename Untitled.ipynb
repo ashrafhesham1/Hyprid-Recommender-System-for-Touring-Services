{
 "cells": [
  {
   "cell_type": "code",
   "execution_count": 2,
   "id": "94d91dcb",
   "metadata": {},
   "outputs": [],
   "source": [
    "import gc\n",
    "import sys\n",
    "import os\n",
    "\n",
    "sys.path.append('./data')\n",
    "sys.path.append('./model')\n",
    "sys.path.append('./evaluation')"
   ]
  },
  {
   "cell_type": "code",
   "execution_count": 4,
   "id": "21250762",
   "metadata": {},
   "outputs": [],
   "source": [
    "from Data import Data\n",
    "from EnsembleAlgorithm import EnsembleAlgorithm\n",
    "from ContentKnn import ContentKnn\n",
    "# #from surprise import KNNWithMeans\n",
    "# from EvaluationData import EvaluationData\n",
    "# #from RecommenderMetrics import RecommenderMetrics\n",
    "# #from EnsembleV2 import EnsembleV2\n",
    "# from model import model\n",
    "#from SVDInc import SVDInc"
   ]
  },
  {
   "cell_type": "code",
   "execution_count": 5,
   "id": "38cff602",
   "metadata": {},
   "outputs": [],
   "source": [
    "import numpy as np\n",
    "import pandas as pd\n",
    "from sklearn.metrics.pairwise import pairwise_distances\n",
    "from Model import Model"
   ]
  },
  {
   "cell_type": "code",
   "execution_count": 6,
   "id": "3d5d52ca",
   "metadata": {},
   "outputs": [],
   "source": [
    "#recmet = RecommenderMetrics()\n",
    "model = Model()\n",
    "model.fit()"
   ]
  },
  {
   "cell_type": "code",
   "execution_count": 7,
   "id": "19a09c4e",
   "metadata": {},
   "outputs": [
    {
     "data": {
      "text/plain": [
       "3.7183751475993283"
      ]
     },
     "execution_count": 7,
     "metadata": {},
     "output_type": "execute_result"
    }
   ],
   "source": [
    "model.predict('31447','553171')"
   ]
  },
  {
   "cell_type": "code",
   "execution_count": 8,
   "id": "30c0dc11",
   "metadata": {},
   "outputs": [
    {
     "data": {
      "text/plain": [
       "4.9163826676504545"
      ]
     },
     "execution_count": 8,
     "metadata": {},
     "output_type": "execute_result"
    }
   ],
   "source": [
    "nur = {553171:4.8,459804:4.5,308825:5}\n",
    "model.predict(nur, 24119293, k = 100)"
   ]
  },
  {
   "cell_type": "code",
   "execution_count": 9,
   "id": "7aa13770",
   "metadata": {},
   "outputs": [],
   "source": [
    "data = Data()\n",
    "data.load()\n",
    "trainset = data.get_ratings()\n",
    "items = data.get_items()\n",
    "ratings_df = data.get_ratings_df()"
   ]
  },
  {
   "cell_type": "code",
   "execution_count": 10,
   "id": "3828ad00",
   "metadata": {},
   "outputs": [
    {
     "data": {
      "text/plain": [
       "array([(37482,   553171, 3.), (31447,   553171, 3.),\n",
       "       (86625,   553171, 5.), ..., (59687, 17393996, 5.),\n",
       "       (16245, 17393996, 5.), (34034, 17393996, 5.)],\n",
       "      dtype=[('f0', '<i4'), ('f1', '<i4'), ('f2', '<f4')])"
      ]
     },
     "execution_count": 10,
     "metadata": {},
     "output_type": "execute_result"
    }
   ],
   "source": [
    "df_train = pd.read_csv('./data/attractions_reviews_minimal_3.csv')\n",
    "df_train = df_train.drop(['timestamp'], axis=1)\n",
    "tuples_list = np.array([tuple(x) for x in df_train.to_records(index=False)], dtype=\"i,i,f\")\n",
    "tuples_list"
   ]
  },
  {
   "cell_type": "code",
   "execution_count": 11,
   "id": "cbf99032",
   "metadata": {},
   "outputs": [],
   "source": [
    "#m = model()\n",
    "m = ContentKnn(items)"
   ]
  },
  {
   "cell_type": "code",
   "execution_count": 12,
   "id": "57a2a889",
   "metadata": {},
   "outputs": [],
   "source": [
    "#m.fit(trainset.build_full_trainset(), ratings_df, items)\n",
    "m.fit(trainset.build_full_trainset())"
   ]
  },
  {
   "cell_type": "code",
   "execution_count": 13,
   "id": "4ccd23e4",
   "metadata": {},
   "outputs": [],
   "source": [
    "# ev_data = EvaluationData(trainset, data.get_popularity_ranking())\n",
    "# loo_train = ev_data.get_LOOCV_train_set()\n",
    "# loo_test = ev_data.get_LOOCV_test_set()\n",
    "# loo_anti_test = ev_data.get_LOOCV_anti_test_set()"
   ]
  },
  {
   "cell_type": "code",
   "execution_count": 14,
   "id": "db3e4003",
   "metadata": {},
   "outputs": [
    {
     "data": {
      "text/plain": [
       "Prediction(uid='31447', iid='553171', r_ui=None, est=3.866926674104962, details={'was_impossible': False})"
      ]
     },
     "execution_count": 14,
     "metadata": {},
     "output_type": "execute_result"
    }
   ],
   "source": [
    "m.predict('31447','553171')"
   ]
  },
  {
   "cell_type": "code",
   "execution_count": 15,
   "id": "83ddf99f",
   "metadata": {},
   "outputs": [
    {
     "data": {
      "text/plain": [
       "4.755119587682636"
      ]
     },
     "execution_count": 15,
     "metadata": {},
     "output_type": "execute_result"
    }
   ],
   "source": [
    "m.predict_new_user(nur, 24119293, k = 2000)"
   ]
  },
  {
   "cell_type": "code",
   "execution_count": null,
   "id": "b38266d5",
   "metadata": {},
   "outputs": [],
   "source": []
  },
  {
   "cell_type": "code",
   "execution_count": 16,
   "id": "66de5acd",
   "metadata": {},
   "outputs": [
    {
     "ename": "NameError",
     "evalue": "name 'SVDInc' is not defined",
     "output_type": "error",
     "traceback": [
      "\u001b[1;31m---------------------------------------------------------------------------\u001b[0m",
      "\u001b[1;31mNameError\u001b[0m                                 Traceback (most recent call last)",
      "Cell \u001b[1;32mIn[16], line 1\u001b[0m\n\u001b[1;32m----> 1\u001b[0m m2 \u001b[38;5;241m=\u001b[39m \u001b[43mSVDInc\u001b[49m(df_train[:\u001b[38;5;241m200\u001b[39m])\n\u001b[0;32m      2\u001b[0m m2\u001b[38;5;241m.\u001b[39mfit(trainset\u001b[38;5;241m.\u001b[39mbuild_full_trainset())\n",
      "\u001b[1;31mNameError\u001b[0m: name 'SVDInc' is not defined"
     ]
    }
   ],
   "source": [
    "m2 = SVDInc(df_train[:200])\n",
    "m2.fit(trainset.build_full_trainset())"
   ]
  },
  {
   "cell_type": "code",
   "execution_count": 17,
   "id": "7d9e9cc3",
   "metadata": {},
   "outputs": [
    {
     "ename": "NameError",
     "evalue": "name 'm2' is not defined",
     "output_type": "error",
     "traceback": [
      "\u001b[1;31m---------------------------------------------------------------------------\u001b[0m",
      "\u001b[1;31mNameError\u001b[0m                                 Traceback (most recent call last)",
      "Cell \u001b[1;32mIn[17], line 1\u001b[0m\n\u001b[1;32m----> 1\u001b[0m \u001b[43mm2\u001b[49m\u001b[38;5;241m.\u001b[39mpredict(\u001b[38;5;124m'\u001b[39m\u001b[38;5;124m31447\u001b[39m\u001b[38;5;124m'\u001b[39m,\u001b[38;5;124m'\u001b[39m\u001b[38;5;124m553171\u001b[39m\u001b[38;5;124m'\u001b[39m)\n",
      "\u001b[1;31mNameError\u001b[0m: name 'm2' is not defined"
     ]
    }
   ],
   "source": [
    "m2.predict('31447','553171')"
   ]
  },
  {
   "cell_type": "code",
   "execution_count": null,
   "id": "1ff61972",
   "metadata": {
    "scrolled": true
   },
   "outputs": [],
   "source": [
    "new = [(1000100105,553171,1),(1000100105,459804,1),(1000100105,308825,5)]\n",
    "m2.predict_new_user(nur, 24119293, k = 40)"
   ]
  },
  {
   "cell_type": "code",
   "execution_count": null,
   "id": "0b666eb4",
   "metadata": {},
   "outputs": [],
   "source": [
    "m3 = EnsembleAlgorithm([SVDInc(df_train[:200]), ContentKnn(items)])\n",
    "m3.fit(trainset.build_full_trainset())"
   ]
  },
  {
   "cell_type": "code",
   "execution_count": null,
   "id": "cb77c163",
   "metadata": {},
   "outputs": [],
   "source": [
    "u = m3.trainset.to_inner_uid('31447')\n",
    "i = m3.trainset.to_inner_iid('553171')\n",
    "print(m3.trainset.knows_user(u))\n",
    "print(m3.trainset.knows_item(i))\n",
    "\n",
    "m3.estimate(u,i)\n",
    "#m3.predict('31447', '553171')"
   ]
  },
  {
   "cell_type": "code",
   "execution_count": null,
   "id": "68ccaee7",
   "metadata": {},
   "outputs": [],
   "source": [
    "m3.predict_new_user(nur, 24119293, k = 40)"
   ]
  },
  {
   "cell_type": "code",
   "execution_count": null,
   "id": "d01a05aa",
   "metadata": {},
   "outputs": [],
   "source": [
    "list(tuples_list)"
   ]
  },
  {
   "cell_type": "code",
   "execution_count": null,
   "id": "0afaeb84",
   "metadata": {},
   "outputs": [],
   "source": [
    "a = [(14583, 10182650, 3.),\n",
    " (10617, 15328555, 4.),\n",
    " (79283, 469437, 5.),\n",
    " (68154, 14057830, 5.)]\n",
    "b = [(27266, 15146438, 5.),\n",
    " (23534, 469518, 5.),\n",
    " (12311, 12187811, 5.),\n",
    " (70951, 3846996, 4.)]"
   ]
  },
  {
   "cell_type": "code",
   "execution_count": null,
   "id": "0f257924",
   "metadata": {},
   "outputs": [],
   "source": [
    "a = np.array(a, dtype=\"i,i,f\")\n",
    "b = np.array(b, dtype=\"i,i,f\")\n"
   ]
  },
  {
   "cell_type": "code",
   "execution_count": null,
   "id": "fa1562c3",
   "metadata": {},
   "outputs": [],
   "source": [
    "np.concatenate([a,b],axis = 0)"
   ]
  },
  {
   "cell_type": "code",
   "execution_count": null,
   "id": "7fad3249",
   "metadata": {},
   "outputs": [],
   "source": []
  },
  {
   "cell_type": "code",
   "execution_count": null,
   "id": "c78d5d2b",
   "metadata": {},
   "outputs": [],
   "source": [
    "import numpy as np\n",
    "import pandas as pd\n",
    "\n",
    "# Create a sample rating matrix\n",
    "rating_matrix = pd.DataFrame({\n",
    "    'item_1': [None, 2, 4, 5, 1],\n",
    "    'item_2': [4, 5, 3, 2, 4],\n",
    "    'item_3': [2, 3, 4, 5, 1],\n",
    "    'item_4': [5, 4, 3, 2, 1],\n",
    "    'item_5': [4, 2, 3, 1, 5]\n",
    "}, index=['user_1', 'user_2', 'user_3', 'user_4', 'user_5'])\n",
    "\n",
    "# Calculate the mean rating of all users and items\n",
    "global_mean = np.nanmean(rating_matrix.values)\n",
    "user_means = np.array(np.nanmean(rating_matrix, axis=1))\n",
    "item_means = np.nanmean(rating_matrix, axis=0)\n",
    "\n",
    "# Calculate the user bias and item bias\n",
    "user_bias = user_means - global_mean\n",
    "item_bias = item_means - global_mean\n",
    "\n",
    "# Print the user bias and item bias\n",
    "#print(\"User Bias:\")\n",
    "print(user_bias)\n",
    "print(\"\\nItem Bias:\")\n",
    "print(item_bias)"
   ]
  },
  {
   "cell_type": "code",
   "execution_count": null,
   "id": "3aaed3ba",
   "metadata": {},
   "outputs": [],
   "source": [
    "m2.global_mean"
   ]
  },
  {
   "cell_type": "code",
   "execution_count": null,
   "id": "1b5c2e88",
   "metadata": {},
   "outputs": [],
   "source": [
    "cc = pd.DataFrame({'item_1': [0],'item_2': [5],'item_3': [0],'item_4': [5],'item_5': [5]},index=['user_1'])\n",
    "np.array(np.nanmean(cc.replace(0, np.NaN), axis=1))"
   ]
  },
  {
   "cell_type": "code",
   "execution_count": null,
   "id": "46d95f51",
   "metadata": {},
   "outputs": [],
   "source": []
  },
  {
   "cell_type": "code",
   "execution_count": null,
   "id": "d59224be",
   "metadata": {},
   "outputs": [],
   "source": []
  },
  {
   "cell_type": "code",
   "execution_count": null,
   "id": "7b6178ba",
   "metadata": {},
   "outputs": [],
   "source": []
  },
  {
   "cell_type": "code",
   "execution_count": null,
   "id": "46e5b42a",
   "metadata": {},
   "outputs": [],
   "source": []
  },
  {
   "cell_type": "code",
   "execution_count": null,
   "id": "17aa6a5a",
   "metadata": {},
   "outputs": [],
   "source": []
  },
  {
   "cell_type": "code",
   "execution_count": null,
   "id": "71414974",
   "metadata": {},
   "outputs": [],
   "source": []
  },
  {
   "cell_type": "code",
   "execution_count": null,
   "id": "f8813395",
   "metadata": {},
   "outputs": [],
   "source": []
  },
  {
   "cell_type": "code",
   "execution_count": null,
   "id": "c1ed1c2e",
   "metadata": {},
   "outputs": [],
   "source": []
  },
  {
   "cell_type": "code",
   "execution_count": null,
   "id": "f462d491",
   "metadata": {},
   "outputs": [],
   "source": []
  },
  {
   "cell_type": "code",
   "execution_count": null,
   "id": "89d32b41",
   "metadata": {},
   "outputs": [],
   "source": []
  }
 ],
 "metadata": {
  "kernelspec": {
   "display_name": "Python 3 (ipykernel)",
   "language": "python",
   "name": "python3"
  },
  "language_info": {
   "codemirror_mode": {
    "name": "ipython",
    "version": 3
   },
   "file_extension": ".py",
   "mimetype": "text/x-python",
   "name": "python",
   "nbconvert_exporter": "python",
   "pygments_lexer": "ipython3",
   "version": "3.8.3"
  }
 },
 "nbformat": 4,
 "nbformat_minor": 5
}
